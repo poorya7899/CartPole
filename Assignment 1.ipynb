{
  "cells": [
    {
      "cell_type": "code",
      "execution_count": 489,
      "metadata": {
        "id": "w6aBf9LtQ1XE"
      },
      "outputs": [],
      "source": [
        "!pip install gymnasium"
      ]
    },
    {
      "cell_type": "code",
      "execution_count": 490,
      "metadata": {
        "id": "soCRFlMYPa0F"
      },
      "outputs": [],
      "source": [
        "import gymnasium as gym\n",
        "import numpy as np\n",
        "import torch\n",
        "import torch.nn as nn\n",
        "import torch.optim as optim\n",
        "from torch.distributions import Categorical\n",
        "import matplotlib.pyplot as plt"
      ]
    },
    {
      "cell_type": "code",
      "execution_count": 491,
      "metadata": {
        "id": "e2ZzIQTMPa0H"
      },
      "outputs": [],
      "source": [
        "#parameters\n",
        "learning_rate = 0.01\n",
        "discount_factor = 0.99"
      ]
    },
    {
      "cell_type": "code",
      "execution_count": 492,
      "metadata": {
        "id": "nhzpm-3cPa0H"
      },
      "outputs": [],
      "source": [
        "class Agent(nn.Module):\n",
        "    def __init__(self, input_size , output_size):\n",
        "        super(Agent,self).__init__()\n",
        "        self.model = nn.Sequential(\n",
        "            nn.Linear(input_size, 32),\n",
        "            nn.ReLU(),\n",
        "            nn.Linear(32, output_size),\n",
        "        )\n",
        "        self.rewards = []\n",
        "        self.log_probs = []\n",
        "    \n",
        "    def forward(self, x):\n",
        "        res = self.model(x)\n",
        "        return res\n",
        "\n",
        "    def reset(self):\n",
        "        self.rewards = []\n",
        "        self.log_probs = []\n",
        "\n",
        "    def action(self, state):\n",
        "        x = torch.from_numpy(state.astype(np.float32))\n",
        "        out = self.forward(x)\n",
        "        output = Categorical(logits=out)\n",
        "        action = output.sample()\n",
        "        log_prob = output.log_prob(action)\n",
        "        self.log_probs.append(log_prob)\n",
        "        return action.item()\n",
        "        \n"
      ]
    },
    {
      "cell_type": "code",
      "execution_count": 493,
      "metadata": {
        "id": "g5xPednGPa0I"
      },
      "outputs": [],
      "source": [
        "def train(agent, optimizer):\n",
        "    T = len(agent.rewards)\n",
        "    rets = np.empty(T, dtype=np.float32)\n",
        "    future_ret = 0.0\n",
        "    for t in reversed(range(T)):\n",
        "        future_ret = agent.rewards[t] + discount_factor * future_ret\n",
        "        rets[t] = future_ret\n",
        "    rets = torch.tensor(rets)\n",
        "    log_probs = torch.stack(agent.log_probs)\n",
        "    loss = - log_probs * rets\n",
        "    loss = torch.sum(loss)\n",
        "    optimizer.zero_grad()\n",
        "    loss.backward()\n",
        "    optimizer.step()\n",
        "    return loss"
      ]
    },
    {
      "cell_type": "code",
      "execution_count": 494,
      "metadata": {
        "id": "Ctl2WaSLPa0I"
      },
      "outputs": [],
      "source": [
        "env = gym.make('CartPole-v1')"
      ]
    },
    {
      "cell_type": "code",
      "execution_count": 495,
      "metadata": {
        "id": "tTZcdtdrPa0I"
      },
      "outputs": [],
      "source": [
        "input_size  = env.observation_space.shape[0]\n",
        "output_size = env.action_space.n"
      ]
    },
    {
      "cell_type": "code",
      "execution_count": 496,
      "metadata": {
        "id": "Ss41up6GPa0J"
      },
      "outputs": [],
      "source": [
        "agent = Agent(input_size, output_size)\n",
        "optimizer = optim.Adam(agent.parameters(), lr=learning_rate)"
      ]
    },
    {
      "cell_type": "code",
      "execution_count": null,
      "metadata": {
        "colab": {
          "base_uri": "https://localhost:8080/"
        },
        "id": "Slr2Qz0GPa0J",
        "outputId": "ea3473e5-cef2-4b87-9f91-1c96230c8b1f"
      },
      "outputs": [],
      "source": [
        "res = []\n",
        "episode = 1\n",
        "while( episode <= 1000 and (episode <= 200 or np.sum(res[-10:]) != 2000)):\n",
        "    state , _ = env.reset()\n",
        "    for t in range(200):\n",
        "        action = agent.action(state)\n",
        "        state, reward, terminated , truncated, _ = env.step(action)\n",
        "        agent.rewards.append(reward)\n",
        "        env.render()\n",
        "        if terminated or truncated:\n",
        "            break\n",
        "    loss = train(agent, optimizer)\n",
        "    total_reward = sum(agent.rewards)\n",
        "    solved = total_reward > 195.0\n",
        "    agent.reset()\n",
        "    res.append(total_reward)\n",
        "    episode += 1\n",
        "env.close()"
      ]
    },
    {
      "cell_type": "code",
      "execution_count": null,
      "metadata": {
        "colab": {
          "base_uri": "https://localhost:8080/",
          "height": 447
        },
        "id": "TrJaekdPPa0L",
        "outputId": "4d3ce34f-becb-41da-e8ee-0bc64e0bbbbd"
      },
      "outputs": [],
      "source": [
        "plt.plot(res)"
      ]
    },
    {
      "cell_type": "code",
      "execution_count": null,
      "metadata": {
        "colab": {
          "base_uri": "https://localhost:8080/"
        },
        "id": "t-qD6dZMwa96",
        "outputId": "e8bf7e9a-d314-46fd-a2d6-5eb48fd51720"
      },
      "outputs": [],
      "source": [
        "episode"
      ]
    },
    {
      "cell_type": "code",
      "execution_count": 500,
      "metadata": {
        "colab": {
          "base_uri": "https://localhost:8080/"
        },
        "id": "VDI5Y258VXme",
        "outputId": "7a5c82cd-77e0-4806-ddad-7b4365b0f989"
      },
      "outputs": [
        {
          "name": "stdout",
          "output_type": "stream",
          "text": [
            "200.0\n"
          ]
        },
        {
          "name": "stderr",
          "output_type": "stream",
          "text": [
            "/usr/local/lib/python3.9/dist-packages/gymnasium/envs/classic_control/cartpole.py:215: UserWarning: \u001b[33mWARN: You are calling render method without specifying any render mode. You can specify the render_mode at initialization, e.g. gym.make(\"CartPole-v1\", render_mode=\"rgb_array\")\u001b[0m\n",
            "  gym.logger.warn(\n"
          ]
        }
      ],
      "source": [
        "state , _ = env.reset()\n",
        "for t in range(200):\n",
        "    action = agent.action(state)\n",
        "    state, reward, terminated , truncated, _ = env.step(action)\n",
        "    agent.rewards.append(reward)\n",
        "    env.render()\n",
        "    if terminated or truncated:\n",
        "        break\n",
        "print(sum(agent.rewards))"
      ]
    }
  ],
  "metadata": {
    "colab": {
      "provenance": [],
      "toc_visible": true
    },
    "kernelspec": {
      "display_name": "Python 3",
      "language": "python",
      "name": "python3"
    },
    "language_info": {
      "codemirror_mode": {
        "name": "ipython",
        "version": 3
      },
      "file_extension": ".py",
      "mimetype": "text/x-python",
      "name": "python",
      "nbconvert_exporter": "python",
      "pygments_lexer": "ipython3",
      "version": "3.10.7 (tags/v3.10.7:6cc6b13, Sep  5 2022, 14:08:36) [MSC v.1933 64 bit (AMD64)]"
    },
    "vscode": {
      "interpreter": {
        "hash": "114067fc0f372de1d09e6032eb12f72f309396567ef129ebb31a527ac014185f"
      }
    }
  },
  "nbformat": 4,
  "nbformat_minor": 0
}
